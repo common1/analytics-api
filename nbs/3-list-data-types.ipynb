{
 "cells": [
  {
   "cell_type": "code",
   "execution_count": 5,
   "metadata": {},
   "outputs": [
    {
     "data": {
      "text/plain": [
       "'http://localhost:8002/api/events'"
      ]
     },
     "execution_count": 5,
     "metadata": {},
     "output_type": "execute_result"
    }
   ],
   "source": [
    "import requests\n",
    "from pprint import pprint\n",
    "path = \"/api/events\"\n",
    "base_url = \"http://localhost:8002\"\n",
    "endpoint = f\"{base_url}{path}\"\n",
    "endpoint"
   ]
  },
  {
   "cell_type": "code",
   "execution_count": 12,
   "metadata": {},
   "outputs": [
    {
     "name": "stdout",
     "output_type": "stream",
     "text": [
      "ok True\n",
      "{'count': 3,\n",
      " 'results': [{'created_at': '2025-07-03T13:29:27.067083Z',\n",
      "              'description': 'abc123',\n",
      "              'id': 2,\n",
      "              'page': '/test+',\n",
      "              'updated_at': '2025-07-03T13:29:27.067089Z'},\n",
      "             {'created_at': '2025-07-03T13:29:28.850156Z',\n",
      "              'description': 'abc123',\n",
      "              'id': 3,\n",
      "              'page': '/test+',\n",
      "              'updated_at': '2025-07-03T13:29:28.850162Z'},\n",
      "             {'created_at': '2025-07-03T13:23:45.043535Z',\n",
      "              'description': 'inline test',\n",
      "              'id': 1,\n",
      "              'page': '/test+',\n",
      "              'updated_at': '2025-07-03T13:31:37.303661Z'}]}\n"
     ]
    }
   ],
   "source": [
    "response = requests.get(endpoint)\n",
    "print('ok', response.ok)\n",
    "if response.ok:\n",
    "    data = response.json()\n",
    "    pprint(data)"
   ]
  },
  {
   "cell_type": "code",
   "execution_count": null,
   "metadata": {},
   "outputs": [],
   "source": [
    "detail_path = \"/api/events/13\"\n",
    "detail_endpoint = f\"{base_url}{detail_path}\"\n",
    "r = requests.get(detail_endpoint)\n",
    "print('ok', r.status_code)\n",
    "if r.ok:\n",
    "    data = r.json()\n",
    "    pprint(data)"
   ]
  }
 ],
 "metadata": {
  "kernelspec": {
   "display_name": ".env",
   "language": "python",
   "name": "python3"
  },
  "language_info": {
   "codemirror_mode": {
    "name": "ipython",
    "version": 3
   },
   "file_extension": ".py",
   "mimetype": "text/x-python",
   "name": "python",
   "nbconvert_exporter": "python",
   "pygments_lexer": "ipython3",
   "version": "3.12.3"
  }
 },
 "nbformat": 4,
 "nbformat_minor": 2
}
