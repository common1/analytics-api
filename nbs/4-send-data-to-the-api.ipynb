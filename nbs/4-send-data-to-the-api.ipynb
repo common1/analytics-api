{
 "cells": [
  {
   "cell_type": "code",
   "execution_count": 1,
   "metadata": {},
   "outputs": [],
   "source": [
    "import requests\n"
   ]
  },
  {
   "cell_type": "code",
   "execution_count": 2,
   "metadata": {},
   "outputs": [],
   "source": [
    "data = {\"page\": \"/test+\"}"
   ]
  },
  {
   "cell_type": "code",
   "execution_count": null,
   "metadata": {},
   "outputs": [],
   "source": [
    "import json\n",
    "json.dumps(data)"
   ]
  },
  {
   "cell_type": "code",
   "execution_count": 16,
   "metadata": {},
   "outputs": [
    {
     "name": "stdout",
     "output_type": "stream",
     "text": [
      "{'date': 'Thu, 03 Jul 2025 13:29:28 GMT', 'server': 'uvicorn', 'content-length': '133', 'content-type': 'application/json'}\n",
      "ok True\n",
      "{'id': 3, 'description': 'abc123', 'updated_at': '2025-07-03T13:29:28.850162Z', 'created_at': '2025-07-03T13:29:28.850156Z', 'page': '/test+'} <class 'dict'> None\n"
     ]
    }
   ],
   "source": [
    "path = \"/api/events\"\n",
    "base_url = \"http://localhost:8002\"\n",
    "create_endpoint = f\"{base_url}{path}\"\n",
    "\n",
    "response = requests.post(create_endpoint, json={\"page\": \"/test+\", \"description\": \"abc123\"})\n",
    "print(response.headers)\n",
    "print('ok', response.ok)\n",
    "if response.ok:\n",
    "    data = response.json()\n",
    "    print(data, type(data), data.get('items'))\n",
    "else:\n",
    "    print(response.text)"
   ]
  },
  {
   "cell_type": "code",
   "execution_count": 17,
   "metadata": {},
   "outputs": [
    {
     "name": "stdout",
     "output_type": "stream",
     "text": [
      "{'date': 'Thu, 03 Jul 2025 13:31:36 GMT', 'server': 'uvicorn', 'content-length': '138', 'content-type': 'application/json'}\n",
      "ok 200\n",
      "{'id': 1, 'description': 'inline test', 'updated_at': '2025-07-03T13:31:37.303661Z', 'created_at': '2025-07-03T13:23:45.043535Z', 'page': '/test+'} <class 'dict'> None\n"
     ]
    }
   ],
   "source": [
    "detail_path = \"/api/events/1/\"\n",
    "detail_endpoint = f\"{base_url}{detail_path}\"\n",
    "headers = {\n",
    "    \"Content-Type\": \"application/json\"\n",
    "}\n",
    "response = requests.put(detail_endpoint, json={\"description\": \"inline test\"})\n",
    "print(response.headers)\n",
    "print('ok', response.status_code)\n",
    "if response.ok:\n",
    "    data = response.json()\n",
    "    print(data, type(data), data.get('items'))\n",
    "else:\n",
    "    print(response.text)"
   ]
  }
 ],
 "metadata": {
  "kernelspec": {
   "display_name": ".env",
   "language": "python",
   "name": "python3"
  },
  "language_info": {
   "codemirror_mode": {
    "name": "ipython",
    "version": 3
   },
   "file_extension": ".py",
   "mimetype": "text/x-python",
   "name": "python",
   "nbconvert_exporter": "python",
   "pygments_lexer": "ipython3",
   "version": "3.12.3"
  }
 },
 "nbformat": 4,
 "nbformat_minor": 2
}
